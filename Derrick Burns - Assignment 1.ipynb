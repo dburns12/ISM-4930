{
 "cells": [
  {
   "cell_type": "code",
   "execution_count": null,
   "metadata": {},
   "outputs": [],
   "source": [
    "# Author: Derrick Burns\n",
    "# Class: ISM4930\n",
    "# Project: Assignment 1\n",
    "\n",
    "# Nested conditional\n",
    "# Derrick has class on Monday's at 9am and 6pm, Tuesday's & Thursday's at 3pm, and Wednesday's at 9am.\n",
    "# He does not have class any other day or time of the week.\n",
    "# Write a nested conditional to show his class schedule. Use a variable input variable for day and time.\n",
    "\n",
    "\n",
    "day = input(\"Enter a day of the week: \")       # variable to input day of week as str\n",
    "time = int(input(\"Enter a time 1-12: \"))       # variable to input time of class as int\n",
    "if day.lower() == \"monday\":          # if the day of the week entered equals Monday and time equals 9 or 6, Derrick has class\n",
    "    if time == 9:                    # if not, he does't have class at that time of day\n",
    "        print(\"I have ISM4930\")\n",
    "    elif time == 6:\n",
    "        print(\"I have ISM4402\")\n",
    "    else:\n",
    "        print(\"I don't have class\")\n",
    "        \n",
    "elif day.lower() == \"tuesday\":                  # if the day of the week equals Tuesday and time equals 3\n",
    "    if time == 3:                                  # Derrick has class, if not, he doesn't have class at that time of day\n",
    "        print(\"I have ISM4300\")\n",
    "    else:\n",
    "        print(\"I don't have class\")\n",
    "        \n",
    "elif day.lower() == \"wednesday\":           # if the day of the week equals Wednesday and time equals 9, Derrick has class\n",
    "    if time == 9:                          # if not, he doesn't have class at that time of day\n",
    "        print(\"I have ISM4930\")\n",
    "    else:\n",
    "        print(\"I don't have class\")\n",
    "        \n",
    "elif day.lower() == \"thursday\":                    # if the day of the week equals Thursday and time equals 3\n",
    "    if time == 3:                                  # Derrick has class, if not, he doesn't have class at that time of day\n",
    "        print(\"I have ISM4300\")\n",
    "    else:\n",
    "        print(\"I don't have class\")\n",
    "        \n",
    "else:                                      # Derrick doesn't have class at all this day\n",
    "    print(\"I don't have class at all\")"
   ]
  },
  {
   "cell_type": "code",
   "execution_count": 3,
   "metadata": {
    "scrolled": true
   },
   "outputs": [
    {
     "name": "stdout",
     "output_type": "stream",
     "text": [
      "Input x: 15\n",
      "Input y: 12\n",
      "15 is greater than 12\n"
     ]
    }
   ],
   "source": [
    "# Nested conditional #2\n",
    "# Write a nested conditonal that tests if is x equal to y, and if that's false, another test for x is less than y.\n",
    "\n",
    "\n",
    "x = int(input(\"Input x: \"))          # variable x to input a number\n",
    "y = int(input(\"Input y: \"))          # variable y to input a number\n",
    "if x == y:                           # if statement for x equal to y\n",
    "    print(x, \"and\", y, \"are equal\")  # print result\n",
    "else:\n",
    "    if x < y:                       # if statement for x less than y\n",
    "        print(x, \"is less than\", y) # print result\n",
    "    else:\n",
    "        print(x, \"is greater than\", y)   # print result for else if the if statement is false"
   ]
  },
  {
   "cell_type": "code",
   "execution_count": null,
   "metadata": {},
   "outputs": [],
   "source": [
    "# Iterative example (while loop)\n",
    "# While x is less than 5 print x\n",
    "# x will iterate until the statement is false.\n",
    "\n",
    "\n",
    "x = 0;     # set up variable for x\n",
    "while (x < 5):     # while loop stating x is less than 5\n",
    "    print(x)     # print x\n",
    "    x += 1     # x adds 1 each iteration"
   ]
  },
  {
   "cell_type": "code",
   "execution_count": 10,
   "metadata": {},
   "outputs": [
    {
     "name": "stdout",
     "output_type": "stream",
     "text": [
      "Honda\n",
      "Toyota\n",
      "Ford\n",
      "Kia\n",
      "Hyundai\n",
      "Nissan\n"
     ]
    }
   ],
   "source": [
    "# Iterative example (for loop)\n",
    "# Define a list with these car brands: Honda, Toyota, Ford, Kia, Hyundai, and Nissan\n",
    "# Print each element in the list\n",
    "\n",
    "cars = [\"Honda\", \"Toyota\", \"Ford\", \"Kia\", \"Hyundai\", \"Nissan\"] # created list with variable cars\n",
    "for i in cars:\n",
    "    print(i)      # print i"
   ]
  },
  {
   "cell_type": "code",
   "execution_count": null,
   "metadata": {},
   "outputs": [],
   "source": []
  }
 ],
 "metadata": {
  "kernelspec": {
   "display_name": "Python 3",
   "language": "python",
   "name": "python3"
  },
  "language_info": {
   "codemirror_mode": {
    "name": "ipython",
    "version": 3
   },
   "file_extension": ".py",
   "mimetype": "text/x-python",
   "name": "python",
   "nbconvert_exporter": "python",
   "pygments_lexer": "ipython3",
   "version": "3.7.3"
  }
 },
 "nbformat": 4,
 "nbformat_minor": 2
}
